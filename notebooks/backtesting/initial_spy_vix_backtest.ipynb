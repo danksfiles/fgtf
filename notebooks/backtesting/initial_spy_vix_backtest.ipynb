{
 "cells": [
  {
   "cell_type": "markdown",
   "metadata": {},
   "source": [
    "# Framework Backtest: Fear & Greed Strategy\n",
    "\n",
    "This notebook conducts a backtest of the `FearGreedStrategy` using the components developed in the framework (`MarketDataClient`, `SentimentAnalyzer`). The goal is to validate the performance of our specific Fear & Greed formula against historical data."
   ]
  },
  {
   "cell_type": "markdown",
   "metadata": {},
   "source": [
    "## 1. Setup & Imports\n",
    "\n",
    "We need to adjust the system path to import our framework modules from the `src` directory."
   ]
  },
  {
   "cell_type": "code",
   "execution_count": null,
   "metadata": {},
   "outputs": [],
   "source": [
    "import sys\n",
    "import os\n",
    "import pandas as pd\n",
    "import numpy as np\n",
    "import matplotlib.pyplot as plt\n",
    "\n",
    "# Add the project root to the Python path\n",
    "project_root = os.path.abspath(os.path.join(os.getcwd(), '..', '..'))\n",
    "if project_root not in sys.path:\n",
    "    sys.path.insert(0, project_root)\n",
    "\n",
    "from src.data_ingestion.market_data_client import MarketDataClient\n",
    "from src.sentiment_engine.sentiment_analyzer import SentimentAnalyzer\n",
    "from src.strategies.fear_greed_strategy import FearGreedStrategy\n",
    "from alpaca_trade_api.rest import TimeFrame\n",
    "\n",
    "print(\"Framework modules imported successfully.\")"
   ]
  },
  {
   "cell_type": "markdown",
   "metadata": {},
   "source": [
    "## 2. Data Fetching & Index Calculation\n",
    "\n",
    "We will fetch a long history of SPY data and then run our `SentimentAnalyzer` over it to generate a time series of the Fear & Greed Index."
   ]
  },
  {
   "cell_type": "code",
   "execution_count": null,
   "metadata": {},
   "outputs": [],
   "source": [
    "# Initialize clients\n",
    "market_client = MarketDataClient()\n",
    "sentiment_analyzer = SentimentAnalyzer(market_client)\n",
    "\n",
    "# Fetch historical data for SPY\n",
    "start_date = '2007-01-01'\n",
    "end_date = '2024-01-01'\n",
    "spy_bars = market_client.get_historical_bars('SPY', TimeFrame.Day, start_date, end_date)\n",
    "\n",
    "if spy_bars is not None:\n",
    "    print(f\"Successfully fetched {len(spy_bars)} bars of SPY data.\")\n",
    "    # Calculate F&G Index for each day in our dataset\n",
    "    # This is a simplified approach; a real implementation would be more efficient\n",
    "    fng_values = []\n",
    "    for i in range(200, len(spy_bars)):\n",
    "        # Pass a rolling window of data to the analyzer\n",
    "        # Note: This is a mock of how the analyzer would work on historical data\n",
    "        # We are recalculating scores based on expanding history\n",
    "        temp_analyzer = SentimentAnalyzer(market_client) # Re-init to avoid state issues\n",
    "        temp_analyzer.market_data_client.get_historical_bars = lambda s, tf, st, ed: spy_bars.iloc[:i]\n",
    "        fng = temp_analyzer.calculate_fear_greed_index('SPY')\n",
    "        fng_values.append(fng)\n",
    "    \n",
    "    # Align the F&G values with the dataframe\n",
    "    spy_bars = spy_bars.iloc[200:].copy()\n",
    "    spy_bars['fng_index'] = fng_values\n",
    "    print(\"Fear & Greed Index calculated for the historical period.\")\n",
    "else:\n",
    "    print(\"Failed to fetch data.\")"
   ]
  },
  {
   "cell_type": "markdown",
   "metadata": {},
   "source": [
    "## 3. Strategy & Signal Generation\n",
    "\n",
    "Now, we apply our `FearGreedStrategy` to the calculated index values."
   ]
  },
  {
   "cell_type": "code",
   "execution_count": null,
   "metadata": {},
   "outputs": [],
   "source": [
    "strategy = FearGreedStrategy(buy_threshold=35, sell_threshold=65)\n",
    "\n",
    "# Generate signals\n",
    "spy_bars['signal'] = spy_bars['fng_index'].apply(strategy.generate_signal)\n",
    "\n",
    "# Convert signals to positions (-1 for SELL, 1 for BUY, 0 for HOLD)\n",
    "spy_bars['position'] = 0\n",
    "spy_bars.loc[spy_bars['signal'] == 'BUY', 'position'] = 1\n",
    "spy_bars.loc[spy_bars['signal'] == 'SELL', 'position'] = -1\n",
    "\n",
    "# Shift positions to avoid lookahead bias (trade on next day's open)\n",
    "spy_bars['position'] = spy_bars['position'].shift(1)\n",
    "spy_bars.dropna(inplace=True)\n",
    "\n",
    "print(\"Signals and positions generated:\")\n",
    "print(spy_bars['signal'].value_counts())"
   ]
  },
  {
   "cell_type": "markdown",
   "metadata": {},
   "source": [
    "## 4. Backtest Execution & Performance Metrics"
   ]
  },
  {
   "cell_type": "code",
   "execution_count": null,
   "metadata": {},
   "outputs": [],
   "source": [
    "# Calculate returns\n",
    "spy_bars['spy_returns'] = spy_bars['close'].pct_change()\n",
    "spy_bars['strategy_returns'] = spy_bars['spy_returns'] * spy_bars['position']\n",
    "\n",
    "# Calculate cumulative returns\n",
    "spy_bars['buy_and_hold'] = (1 + spy_bars['spy_returns']).cumprod()\n",
    "spy_bars['strategy_cumulative'] = (1 + spy_bars['strategy_returns']).cumprod()\n",
    "\n",
    "# --- Performance Metrics ---\n",
    "final_bnh_return = spy_bars['buy_and_hold'].iloc[-1]\n",
    "final_strategy_return = spy_bars['strategy_cumulative'].iloc[-1]\n",
    "\n",
    "# Sharpe Ratio (assuming risk-free rate is 0)\n",
    "sharpe_ratio = (spy_bars['strategy_returns'].mean() / spy_bars['strategy_returns'].std()) * np.sqrt(252)\n",
    "\n",
    "# Max Drawdown\n",
    "rolling_max = spy_bars['strategy_cumulative'].cummax()\n",
    "daily_drawdown = spy_bars['strategy_cumulative'] / rolling_max - 1.0\n",
    "max_drawdown = daily_drawdown.min()\n",
    "\n",
    "print(\"--- Backtest Results ---\")\n",
    "print(f\"Buy and Hold Final Return: {final_bnh_return:.2f}\")\n",
    "print(f\"Strategy Final Return: {final_strategy_return:.2f}\")\n",
    "print(f\"Strategy Sharpe Ratio: {sharpe_ratio:.2f}\")\n",
    "print(f\"Strategy Max Drawdown: {max_drawdown:.2%}\")"
   ]
  },
  {
   "cell_type": "markdown",
   "metadata": {},
   "source": [
    "## 5. Performance Visualization"
   ]
  },
  {
   "cell_type": "code",
   "execution_count": null,
   "metadata": {},
   "outputs": [],
   "source": [
    "fig, (ax1, ax2) = plt.subplots(2, 1, figsize=(14, 10), gridspec_kw={'height_ratios': [3, 1]})\n",
    "\n",
    "# Plot cumulative returns\n",
    "ax1.plot(spy_bars['buy_and_hold'], label='Buy and Hold (SPY)')\n",
    "ax1.plot(spy_bars['strategy_cumulative'], label='Fear & Greed Strategy')\n",
    "ax1.set_title('Strategy Performance vs. Buy and Hold')\n",
    "ax1.set_ylabel('Cumulative Returns')\n",
    "ax1.legend()\n",
    "ax1.grid(True)\n",
    "\n",
    "# Plot the Fear & Greed Index\n",
    "ax2.plot(spy_bars['fng_index'], label='Fear & Greed Index', color='orange')\n",
    "ax2.axhline(strategy.buy_threshold, color='green', linestyle='--', label=f'Buy Threshold ({strategy.buy_threshold})')\n",
    "ax2.axhline(strategy.sell_threshold, color='red', linestyle='--', label=f'Sell Threshold ({strategy.sell_threshold})')\n",
    "ax2.set_title('Fear & Greed Index Over Time')\n",
    "ax2.set_xlabel('Date')\n",
    "ax2.set_ylabel('Index Value')\n",
    "ax2.legend()\n",
    "ax2.grid(True)\n",
    "\n",
    "plt.tight_layout()\n",
    "plt.show()"
   ]
  }
 ],
 "metadata": {
  "kernelspec": {
   "display_name": "Python 3",
   "language": "python",
   "name": "python3"
  },
  "language_info": {
   "codemirror_mode": {
    "name": "ipython",
    "version": 3
   },
   "file_extension": ".py",
   "mimetype": "text/x-python",
   "name": "python",
   "nbconvert_exporter": "python",
   "pygments_lexer": "ipython3",
   "version": "3.10.9"
  }
 },
 "nbformat": 4,
 "nbformat_minor": 4
}